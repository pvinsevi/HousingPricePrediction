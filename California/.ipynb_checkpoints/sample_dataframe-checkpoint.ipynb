{
 "cells": [
  {
   "cell_type": "code",
   "execution_count": 1,
   "id": "dd7c5b64-52aa-47c7-8009-9006205528e9",
   "metadata": {},
   "outputs": [],
   "source": [
    "import pandas as pd"
   ]
  },
  {
   "cell_type": "code",
   "execution_count": 3,
   "id": "1f39b489-c436-4740-ae62-b3f7d05d8f5b",
   "metadata": {},
   "outputs": [],
   "source": [
    "df = pd.read_csv('california_housing_sklearn.csv')"
   ]
  },
  {
   "cell_type": "code",
   "execution_count": 5,
   "id": "805dbba2-5ae6-461c-9a1e-8d182011b5d2",
   "metadata": {},
   "outputs": [],
   "source": [
    "df.drop('SalePrice', axis = 1, inplace = True)"
   ]
  },
  {
   "cell_type": "code",
   "execution_count": 7,
   "id": "9ec5f5ba-95d7-4851-98f1-054f29fb6950",
   "metadata": {},
   "outputs": [],
   "source": [
    "df.to_csv('prediction/raw_data.csv', index = False)"
   ]
  },
  {
   "cell_type": "code",
   "execution_count": null,
   "id": "92bf7d3b-06a0-47dc-b254-b1643adce524",
   "metadata": {},
   "outputs": [],
   "source": []
  }
 ],
 "metadata": {
  "kernelspec": {
   "display_name": "Python 3 (ipykernel)",
   "language": "python",
   "name": "python3"
  },
  "language_info": {
   "codemirror_mode": {
    "name": "ipython",
    "version": 3
   },
   "file_extension": ".py",
   "mimetype": "text/x-python",
   "name": "python",
   "nbconvert_exporter": "python",
   "pygments_lexer": "ipython3",
   "version": "3.10.9"
  }
 },
 "nbformat": 4,
 "nbformat_minor": 5
}
